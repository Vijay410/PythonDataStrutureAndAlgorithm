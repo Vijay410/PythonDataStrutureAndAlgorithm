{
 "cells": [
  {
   "cell_type": "markdown",
   "id": "bafe5d67",
   "metadata": {},
   "source": [
    "### Array Based Problmes\n",
    "\n",
    "- An array is a powerful Python data structure.\n",
    "- An array is a collection of elements that stores only a single data type.\n",
    "- Arrays hold data in contiguous memory locations.\n",
    "- We can perform multiple operations on arrays — such as insertion, updating, deletion, and extraction.\n",
    "- We can access or extract elements from an array using indexing operations.\n",
    "\n",
    "🔹 Basic Array Operations\n",
    "\n",
    "    Traversal – Access each element of the array one by one.\n",
    "\n",
    "    Insertion – Add a new element at a specific position in the array.\n",
    "\n",
    "    Deletion – Remove an element from a specific position.\n",
    "\n",
    "    Updation – Update (modify) the value of an element at a given index.\n",
    "\n",
    "    Searching – Find the index or position of a specific element.\n",
    "\n",
    "    Accessing – Retrieve an element using its index.\n"
   ]
  },
  {
   "cell_type": "code",
   "execution_count": 2,
   "id": "d7affbe6",
   "metadata": {},
   "outputs": [
    {
     "name": "stdout",
     "output_type": "stream",
     "text": [
      "Initial Array: [10, 20, 30, 40, 50]\n",
      "\n",
      "Traversal:\n",
      "10 20 30 40 50 \n",
      "\n",
      "After Insertion: [10, 20, 25, 30, 40, 50]\n",
      "After Deletion: [10, 20, 25, 30, 50]\n",
      "After Updation: [10, 15, 25, 30, 50]\n",
      "Index of 30: 3\n",
      "Element at index 3: 30\n"
     ]
    }
   ],
   "source": [
    "import array #Use array module for creating array\n",
    "\n",
    "# Create an integer array\n",
    "arr = array.array('i', [10, 20, 30, 40, 50])\n",
    "print(\"Initial Array:\", arr.tolist())\n",
    "\n",
    "# 1️⃣ Traversal – Access each element one by one\n",
    "print(\"\\nTraversal:\")\n",
    "for element in arr:\n",
    "    print(element, end=\" \")\n",
    "\n",
    "# 2️⃣ Insertion – Add a new element at a specific position\n",
    "arr.insert(2, 25)   # Insert 25 at index 2\n",
    "print(\"\\n\\nAfter Insertion:\", arr.tolist())\n",
    "\n",
    "# 3️⃣ Deletion – Remove an element from a specific position\n",
    "arr.remove(40)      # Remove the element with value 40\n",
    "print(\"After Deletion:\", arr.tolist())\n",
    "\n",
    "# 4️⃣ Updation – Modify the value at a specific index\n",
    "arr[1] = 15         # Change element at index 1 from 20 → 15\n",
    "print(\"After Updation:\", arr.tolist())\n",
    "\n",
    "# 5️⃣ Searching – Find the index of a specific element\n",
    "index = arr.index(30)   # Get index of element 30\n",
    "print(f\"Index of 30: {index}\")\n",
    "\n",
    "# 6️⃣ Accessing – Retrieve element using index\n",
    "element = arr[3]\n",
    "print(f\"Element at index 3: {element}\")\n"
   ]
  }
 ],
 "metadata": {
  "kernelspec": {
   "display_name": "Python 3",
   "language": "python",
   "name": "python3"
  },
  "language_info": {
   "codemirror_mode": {
    "name": "ipython",
    "version": 3
   },
   "file_extension": ".py",
   "mimetype": "text/x-python",
   "name": "python",
   "nbconvert_exporter": "python",
   "pygments_lexer": "ipython3",
   "version": "3.12.1"
  }
 },
 "nbformat": 4,
 "nbformat_minor": 5
}
