{
 "cells": [
  {
   "cell_type": "markdown",
   "id": "bafe5d67",
   "metadata": {},
   "source": [
    "### Array Based Problmes\n",
    "\n",
    "- An array is a powerful Python data structure.\n",
    "- An array is a collection of elements that stores only a single data type.\n",
    "- Arrays hold data in contiguous memory locations.\n",
    "- We can perform multiple operations on arrays — such as insertion, updating, deletion, and extraction.\n",
    "- We can access or extract elements from an array using indexing operations.\n",
    "\n",
    "🔹 Basic Array Operations\n",
    "\n",
    "    Traversal – Access each element of the array one by one.\n",
    "\n",
    "    Insertion – Add a new element at a specific position in the array.\n",
    "\n",
    "    Deletion – Remove an element from a specific position.\n",
    "\n",
    "    Updation – Update (modify) the value of an element at a given index.\n",
    "\n",
    "    Searching – Find the index or position of a specific element.\n",
    "\n",
    "    Accessing – Retrieve an element using its index.\n"
   ]
  },
  {
   "cell_type": "code",
   "execution_count": 2,
   "id": "d7affbe6",
   "metadata": {},
   "outputs": [
    {
     "name": "stdout",
     "output_type": "stream",
     "text": [
      "Initial Array: [10, 20, 30, 40, 50]\n",
      "\n",
      "Traversal:\n",
      "10 20 30 40 50 \n",
      "\n",
      "After Insertion: [10, 20, 25, 30, 40, 50]\n",
      "After Deletion: [10, 20, 25, 30, 50]\n",
      "After Updation: [10, 15, 25, 30, 50]\n",
      "Index of 30: 3\n",
      "Element at index 3: 30\n"
     ]
    }
   ],
   "source": [
    "import array #Use array module for creating array\n",
    "\n",
    "# Create an integer array\n",
    "arr = array.array('i', [10, 20, 30, 40, 50])\n",
    "print(\"Initial Array:\", arr.tolist())\n",
    "\n",
    "# 1️⃣ Traversal – Access each element one by one\n",
    "print(\"\\nTraversal:\")\n",
    "for element in arr:\n",
    "    print(element, end=\" \")\n",
    "\n",
    "# 2️⃣ Insertion – Add a new element at a specific position\n",
    "arr.insert(2, 25)   # Insert 25 at index 2\n",
    "print(\"\\n\\nAfter Insertion:\", arr.tolist())\n",
    "\n",
    "# 3️⃣ Deletion – Remove an element from a specific position\n",
    "arr.remove(40)      # Remove the element with value 40\n",
    "print(\"After Deletion:\", arr.tolist())\n",
    "\n",
    "# 4️⃣ Updation – Modify the value at a specific index\n",
    "arr[1] = 15         # Change element at index 1 from 20 → 15\n",
    "print(\"After Updation:\", arr.tolist())\n",
    "\n",
    "# 5️⃣ Searching – Find the index of a specific element\n",
    "index = arr.index(30)   # Get index of element 30\n",
    "print(f\"Index of 30: {index}\")\n",
    "\n",
    "# 6️⃣ Accessing – Retrieve element using index\n",
    "element = arr[3]\n",
    "print(f\"Element at index 3: {element}\")\n"
   ]
  },
  {
   "cell_type": "markdown",
   "id": "b6f579fb",
   "metadata": {},
   "source": [
    "#### 1. Basic Traversal & Searching Problems\n"
   ]
  },
  {
   "cell_type": "markdown",
   "id": "4f3cd4ee",
   "metadata": {},
   "source": [
    "✅ Problem 1: Search an Element in an Array\n",
    "\n",
    "Goal: Given an array and a target element, check if it exists and return its index.\n",
    "\n",
    "Input: arr = [10, 20, 30, 40, 50], target = 30  \n",
    "Output: 2"
   ]
  },
  {
   "cell_type": "code",
   "execution_count": null,
   "id": "c807b09a",
   "metadata": {},
   "outputs": [
    {
     "data": {
      "text/plain": [
       "2"
      ]
     },
     "execution_count": 9,
     "metadata": {},
     "output_type": "execute_result"
    }
   ],
   "source": [
    "#Approch\n",
    "#Traverse the each element in the array\n",
    "# Compare each value with target\n",
    "# If found return the index of that element\n",
    "# If not found return -1\n",
    "\n",
    "arr = [10,20,30,40,50]\n",
    "target = 30\n",
    "\n",
    "def search_element(arr, target):\n",
    "    for i in range(len(arr)):\n",
    "        if arr[i] == target: #check eachelement with target\n",
    "            return i\n",
    "    return -1\n",
    "\n",
    "arr = [10,20,30,40,50]\n",
    "target = 30\n",
    "search_element(arr, target)\n",
    "\n",
    "#⏱️ Complexity\n",
    "# Time: O(n) → because you may need to check all elements\n",
    "# Space: O(1) → no extra memory used\n",
    "\n"
   ]
  },
  {
   "cell_type": "markdown",
   "id": "2dde3d2e",
   "metadata": {},
   "source": [
    "#### 2. Largest element in an Array\n",
    "###### 1. Given an array arr. The task is to find the largest element in the given array.\n",
    "\n",
    "Input: arr[] = [10, 20, 4]\n",
    "Output: 20\n",
    "Explanation: Among 10, 20 and 4, 20 is the largest. \n",
    "\n",
    "Input: arr[] = [20, 10, 20, 4, 100]\n",
    "Output: 100\n"
   ]
  },
  {
   "cell_type": "code",
   "execution_count": 16,
   "id": "dd44478e",
   "metadata": {},
   "outputs": [
    {
     "data": {
      "text/plain": [
       "200"
      ]
     },
     "execution_count": 16,
     "metadata": {},
     "output_type": "execute_result"
    }
   ],
   "source": [
    "#Approch\n",
    "#Assume the first element as larget\n",
    "#compare this intial element with each element of array\n",
    "#Return the largest if we found greater than intial element else return intial value\n",
    "def largest_element(arr):\n",
    "    #Assume intially arr[0] is max value\n",
    "    intial_max_val = arr[0]\n",
    "    for i in range(len(arr)):\n",
    "        if arr[i] > intial_max_val:\n",
    "            intial_max_val =  arr[i]\n",
    "    return intial_max_val\n",
    "\n",
    "arr = [20,30,40,50,200]\n",
    "largest_element(arr)"
   ]
  },
  {
   "cell_type": "markdown",
   "id": "589a3f58",
   "metadata": {},
   "source": [
    "###### 3. Check if array is sorted\n",
    "Given an array arr[], check whether it is sorted in non-decreasing order. Return true if it is sorted otherwise false.\n",
    "\n",
    "\n",
    "Input: arr[] = [10, 20, 30, 40, 50]\n",
    "Output: true\n",
    "Explanation: The given array is sorted.\n"
   ]
  },
  {
   "cell_type": "code",
   "execution_count": 19,
   "id": "0f7dcff9",
   "metadata": {},
   "outputs": [
    {
     "data": {
      "text/plain": [
       "True"
      ]
     },
     "execution_count": 19,
     "metadata": {},
     "output_type": "execute_result"
    }
   ],
   "source": [
    "#Check array is sorted\n",
    "#Approch:\n",
    "    #Traverse array\n",
    "    #compare current element and next element \n",
    "def check_is_sorted(arr):\n",
    "    for i in range(len(arr)-1):\n",
    "        if arr[i] < arr[i+1]:\n",
    "            return True\n",
    "    return False\n",
    "arr = [10,20,30,40]\n",
    "check_is_sorted(arr)"
   ]
  }
 ],
 "metadata": {
  "kernelspec": {
   "display_name": "Python 3",
   "language": "python",
   "name": "python3"
  },
  "language_info": {
   "codemirror_mode": {
    "name": "ipython",
    "version": 3
   },
   "file_extension": ".py",
   "mimetype": "text/x-python",
   "name": "python",
   "nbconvert_exporter": "python",
   "pygments_lexer": "ipython3",
   "version": "3.12.1"
  }
 },
 "nbformat": 4,
 "nbformat_minor": 5
}
